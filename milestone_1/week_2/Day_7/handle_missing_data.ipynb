{
 "cells": [
  {
   "cell_type": "markdown",
   "id": "5bd38609",
   "metadata": {
    "id": "5bd38609"
   },
   "source": [
    "### 1. Handling Missing Values\n",
    "**Definition:**\n",
    "\n",
    "Missing values in a dataset are entries for which no data was recorded. They can arise due to various reasons (sensor failure, skipped fields, data corruption, etc.).\n",
    "\n",
    "- Why handle them?\n",
    "\n",
    "  - Many ML algorithms can't process missing values directly.\n",
    "\n",
    "  - They can bias or distort analysis if not treated properly.\n",
    "\n",
    "  - Clean data ensures more reliable, interpretable insights."
   ]
  },
  {
   "cell_type": "markdown",
   "id": "b3ae5cf9",
   "metadata": {
    "id": "b3ae5cf9"
   },
   "source": [
    "### 2. Dropping and Imputing Columns/Rows with Missing Data\n",
    "\n",
    "**Definition:**\n",
    "\n",
    "Dropping removes columns or rows entirely if they're considered uninformative or too incomplete to fix.\n",
    "\n",
    "- When to drop?\n",
    "\n",
    "  - If a column has too many missing values (e.g., >30%).\n",
    "\n",
    "  - If a row is missing crucial data and cannot be imputed reasonably.\n",
    "\n",
    "Code Example:"
   ]
  },
  {
   "cell_type": "code",
   "execution_count": 1,
   "id": "91b051d7",
   "metadata": {
    "id": "91b051d7",
    "outputId": "62656e2e-4f29-4e40-b78c-6a0e6115e39c"
   },
   "outputs": [
    {
     "name": "stdout",
     "output_type": "stream",
     "text": [
      "Original DataFrame:\n",
      "      A    B    C\n",
      "0  1.0  NaN  1.0\n",
      "1  NaN  NaN  2.0\n",
      "2  3.0  NaN  3.0\n",
      "3  4.0  4.0  NaN\n",
      "4  5.0  5.0  5.0\n",
      "\n",
      "After dropping rows with any missing values:\n",
      "      A    B    C\n",
      "4  5.0  5.0  5.0\n",
      "\n",
      "After dropping columns with any missing values:\n",
      " Empty DataFrame\n",
      "Columns: []\n",
      "Index: [0, 1, 2, 3, 4]\n",
      "\n",
      "After dropping columns with >50% missing values:\n",
      "      A    C\n",
      "0  1.0  1.0\n",
      "1  NaN  2.0\n",
      "2  3.0  3.0\n",
      "3  4.0  NaN\n",
      "4  5.0  5.0\n"
     ]
    }
   ],
   "source": [
    "import pandas as pd\n",
    "import numpy as np\n",
    "\n",
    "# Example DataFrame\n",
    "data = {\n",
    "    'A': [1, np.nan, 3, 4, 5],\n",
    "    'B': [np.nan, np.nan, np.nan, 4, 5],\n",
    "    'C': [1, 2, 3, np.nan, 5]\n",
    "}\n",
    "df = pd.DataFrame(data)\n",
    "print(\"Original DataFrame:\\n\", df)\n",
    "\n",
    "# Drop rows with ANY missing values\n",
    "df_drop_rows = df.dropna(axis=0)\n",
    "print(\"\\nAfter dropping rows with any missing values:\\n\", df_drop_rows)\n",
    "\n",
    "# Drop columns with ANY missing values\n",
    "df_drop_cols = df.dropna(axis=1)\n",
    "print(\"\\nAfter dropping columns with any missing values:\\n\", df_drop_cols)\n",
    "\n",
    "# Drop columns with more than a threshold (e.g., 50%) missing values\n",
    "threshold = 0.5 * len(df)\n",
    "df_drop_threshold = df.dropna(axis=1, thresh=threshold)\n",
    "print(\"\\nAfter dropping columns with >50% missing values:\\n\", df_drop_threshold)\n"
   ]
  },
  {
   "cell_type": "markdown",
   "id": "775ac6d8",
   "metadata": {
    "id": "775ac6d8"
   },
   "source": [
    "### 2.2 Imputing (Filling) Missing Values\n",
    "**Definition:**\n",
    "\n",
    "Imputation replaces missing values with substituted values based on various strategies.\n",
    "\n",
    "- When to impute?\n",
    "\n",
    "  - When the column is important for analysis.\n",
    "\n",
    "  - When the missingness is not substantial, and values can be plausibly estimated.\n",
    "\n",
    "Possible Imputation Techniques & Code Examples:"
   ]
  },
  {
   "cell_type": "markdown",
   "id": "e3b44dd3",
   "metadata": {
    "id": "e3b44dd3"
   },
   "source": [
    "a) Fill with a Constant (e.g., 0, \"unknown\")"
   ]
  },
  {
   "cell_type": "code",
   "execution_count": 2,
   "id": "1e3a4e4d",
   "metadata": {
    "id": "1e3a4e4d",
    "outputId": "128d061a-3dd8-46dc-fdcb-f0bfb4e089a7"
   },
   "outputs": [
    {
     "name": "stdout",
     "output_type": "stream",
     "text": [
      "\n",
      "Fill missing values with 0:\n",
      "      A    B    C\n",
      "0  1.0  0.0  1.0\n",
      "1  0.0  0.0  2.0\n",
      "2  3.0  0.0  3.0\n",
      "3  4.0  4.0  0.0\n",
      "4  5.0  5.0  5.0\n"
     ]
    }
   ],
   "source": [
    "\n",
    "df_constant = df.fillna(0)\n",
    "print(\"\\nFill missing values with 0:\\n\", df_constant)"
   ]
  },
  {
   "cell_type": "markdown",
   "id": "0f8ca6ae",
   "metadata": {
    "id": "0f8ca6ae"
   },
   "source": [
    "b) Fill with Mean / Median / Mode"
   ]
  },
  {
   "cell_type": "code",
   "execution_count": 3,
   "id": "69bfc98c",
   "metadata": {
    "id": "69bfc98c",
    "outputId": "dea4509a-0553-4998-e694-96b147f391bd"
   },
   "outputs": [
    {
     "name": "stdout",
     "output_type": "stream",
     "text": [
      "\n",
      "Fill numerical columns with mean:\n",
      "       A    B     C\n",
      "0  1.00  4.5  1.00\n",
      "1  3.25  4.5  2.00\n",
      "2  3.00  4.5  3.00\n",
      "3  4.00  4.0  2.75\n",
      "4  5.00  5.0  5.00\n",
      "\n",
      "Fill numerical columns with median:\n",
      "      A    B    C\n",
      "0  1.0  4.5  1.0\n",
      "1  3.5  4.5  2.0\n",
      "2  3.0  4.5  3.0\n",
      "3  4.0  4.0  2.5\n",
      "4  5.0  5.0  5.0\n",
      "\n",
      "Fill categorical columns with mode:\n",
      "      A    B    C\n",
      "0  1.0  NaN  1.0\n",
      "1  NaN  NaN  2.0\n",
      "2  3.0  NaN  3.0\n",
      "3  4.0  4.0  NaN\n",
      "4  5.0  5.0  5.0\n"
     ]
    }
   ],
   "source": [
    "# Fill numerical columns with mean\n",
    "df_mean = df.fillna(df.mean(numeric_only=True))\n",
    "print(\"\\nFill numerical columns with mean:\\n\", df_mean)\n",
    "\n",
    "# Fill numerical columns with median\n",
    "df_median = df.fillna(df.median(numeric_only=True))\n",
    "print(\"\\nFill numerical columns with median:\\n\", df_median)\n",
    "\n",
    "# Fill categorical columns with mode\n",
    "df_mode = df.apply(lambda x: x.fillna(x.mode()[0]) if x.dtype=='O' else x)\n",
    "print(\"\\nFill categorical columns with mode:\\n\", df_mode)\n"
   ]
  },
  {
   "cell_type": "markdown",
   "id": "43463284",
   "metadata": {
    "id": "43463284"
   },
   "source": [
    "c) Forward Fill / Backward Fill (for time series or panel data)"
   ]
  },
  {
   "cell_type": "code",
   "execution_count": 4,
   "id": "10c8aa63",
   "metadata": {
    "id": "10c8aa63",
    "outputId": "3d48b7c0-87eb-4ee8-c31d-3458ac89e4fc"
   },
   "outputs": [
    {
     "name": "stdout",
     "output_type": "stream",
     "text": [
      "\n",
      "Forward fill missing values:\n",
      "      A    B    C\n",
      "0  1.0  NaN  1.0\n",
      "1  1.0  NaN  2.0\n",
      "2  3.0  NaN  3.0\n",
      "3  4.0  4.0  3.0\n",
      "4  5.0  5.0  5.0\n",
      "\n",
      "Backward fill missing values:\n",
      "      A    B    C\n",
      "0  1.0  4.0  1.0\n",
      "1  3.0  4.0  2.0\n",
      "2  3.0  4.0  3.0\n",
      "3  4.0  4.0  5.0\n",
      "4  5.0  5.0  5.0\n"
     ]
    },
    {
     "name": "stderr",
     "output_type": "stream",
     "text": [
      "C:\\Users\\malle\\AppData\\Local\\Temp\\ipykernel_11252\\3791612229.py:1: FutureWarning: DataFrame.fillna with 'method' is deprecated and will raise in a future version. Use obj.ffill() or obj.bfill() instead.\n",
      "  df_ffill = df.fillna(method='ffill')\n",
      "C:\\Users\\malle\\AppData\\Local\\Temp\\ipykernel_11252\\3791612229.py:4: FutureWarning: DataFrame.fillna with 'method' is deprecated and will raise in a future version. Use obj.ffill() or obj.bfill() instead.\n",
      "  df_bfill = df.fillna(method='bfill')\n"
     ]
    }
   ],
   "source": [
    "df_ffill = df.fillna(method='ffill')\n",
    "print(\"\\nForward fill missing values:\\n\", df_ffill)\n",
    "\n",
    "df_bfill = df.fillna(method='bfill')\n",
    "print(\"\\nBackward fill missing values:\\n\", df_bfill)\n"
   ]
  },
  {
   "cell_type": "markdown",
   "id": "96289efd",
   "metadata": {
    "id": "96289efd"
   },
   "source": [
    "d) Advanced: KNN Imputer / Iterative Imputer (for large projects)"
   ]
  },
  {
   "cell_type": "code",
   "execution_count": null,
   "id": "5591ed3c",
   "metadata": {
    "id": "5591ed3c",
    "outputId": "3cf3c0f6-8728-4d30-9818-8769cbe76a8b"
   },
   "outputs": [],
   "source": [
    "from sklearn.impute import KNNImputer\n",
    "\n",
    "knn_imputer = KNNImputer(n_neighbors=2)\n",
    "df_knn = pd.DataFrame(knn_imputer.fit_transform(df), columns=df.columns)\n",
    "print(\"\\nKNN Imputed DataFrame:\\n\", df_knn)"
   ]
  },
  {
   "cell_type": "markdown",
   "id": "51ede1ac",
   "metadata": {
    "id": "51ede1ac"
   },
   "source": [
    "### 3. Choosing the Best Approach\n",
    "**Guidelines:**\n",
    "\n",
    "  - Drop columns if lots of information is missing (>30–50%), but consider domain importance.\n",
    "\n",
    "  - Impute when missingness is moderate, using domain knowledge to choose the technique.\n",
    "\n",
    "  - Use mean/median for numeric, mode for categorical, and advanced methods for critical variables."
   ]
  },
  {
   "cell_type": "code",
   "execution_count": null,
   "id": "80a3ced7",
   "metadata": {
    "id": "80a3ced7",
    "outputId": "7e6fdacb-310c-42a0-bf36-2239e93a38a4"
   },
   "outputs": [],
   "source": [
    "import pandas as pd\n",
    "import numpy as np\n",
    "from sklearn.impute import KNNImputer\n",
    "\n",
    "# Create a dummy dataset with missing values\n",
    "data = {\n",
    "    'Age': [25, np.nan, 30, 22, 40, np.nan, 28],\n",
    "    'Salary': [50000, 60000, np.nan, 52000, 58000, 62000, np.nan],\n",
    "    'City': ['New York', 'Los Angeles', 'New York', np.nan, 'Chicago', 'Chicago', 'Los Angeles'],\n",
    "    'Purchased': ['Yes', 'No', np.nan, 'No', 'Yes', 'Yes', 'No']\n",
    "}\n",
    "\n",
    "df_dummy = pd.DataFrame(data)\n",
    "print(\"Original Dummy Dataset with Missing Values:\")\n",
    "print(df_dummy)\n",
    "\n",
    "# Assignment Tasks (interns should attempt):\n",
    "# 1. Drop columns or rows with excessive missing values.\n",
    "# 2. Impute missing numerical columns (Age, Salary) with mean or median.\n",
    "# 3. Impute missing categorical columns (City, Purchased) with mode.\n",
    "# 4. Optionally, apply KNN imputation for numerical columns.\n",
    "\n",
    "# Example imputation with mean and mode:\n",
    "df_imputed = df_dummy.copy()\n",
    "df_imputed['Age'] = df_imputed['Age'].fillna(df_imputed['Age'].mean())\n",
    "df_imputed['Salary'] = df_imputed['Salary'].fillna(df_imputed['Salary'].median())\n",
    "df_imputed['City'] = df_imputed['City'].fillna(df_imputed['City'].mode()[0])\n",
    "df_imputed['Purchased'] = df_imputed['Purchased'].fillna(df_imputed['Purchased'].mode()[0])\n",
    "\n",
    "print(\"\\nDummy Dataset After Imputation:\")\n",
    "print(df_imputed)\n"
   ]
  },
  {
   "cell_type": "code",
   "execution_count": null,
   "id": "8f98a4c6",
   "metadata": {
    "colab": {
     "base_uri": "https://localhost:8080/"
    },
    "executionInfo": {
     "elapsed": 2389,
     "status": "ok",
     "timestamp": 1761745569255,
     "user": {
      "displayName": "MALLELA SRI DEVI",
      "userId": "05218767344936405222"
     },
     "user_tz": -330
    },
    "id": "8f98a4c6",
    "outputId": "635070d4-1ec8-4b87-bcca-b6b7a3080ead"
   },
   "outputs": [],
   "source": [
    "import pandas as pd\n",
    "import numpy as np\n",
    "from sklearn.impute import KNNImputer\n",
    "\n",
    "# Re-create the dummy dataset for use in subsequent cells\n",
    "data = {\n",
    "    'Age': [25, np.nan, 30, 22, 40, np.nan, 28],\n",
    "    'Salary': [50000, 60000, np.nan, 52000, 58000, 62000, np.nan],\n",
    "    'City': ['New York', 'Los Angeles', 'New York', np.nan, 'Chicago', 'Chicago', 'Los Angeles'],\n",
    "    'Purchased': ['Yes', 'No', np.nan, 'No', 'Yes', 'Yes', 'No']\n",
    "}\n",
    "\n",
    "df_dummy = pd.DataFrame(data)\n",
    "print(\"Original Dummy Dataset with Missing Values:\")\n",
    "print(df_dummy)"
   ]
  },
  {
   "cell_type": "markdown",
   "id": "416e2d76",
   "metadata": {
    "id": "416e2d76"
   },
   "source": [
    "#### Task 1: Drop columns or rows with excessive missing values."
   ]
  },
  {
   "cell_type": "code",
   "execution_count": null,
   "id": "0d85d517",
   "metadata": {
    "colab": {
     "base_uri": "https://localhost:8080/"
    },
    "executionInfo": {
     "elapsed": 174,
     "status": "ok",
     "timestamp": 1761745570063,
     "user": {
      "displayName": "MALLELA SRI DEVI",
      "userId": "05218767344936405222"
     },
     "user_tz": -330
    },
    "id": "0d85d517",
    "outputId": "0077ddde-1f5f-4a3d-831c-47186f303f6f"
   },
   "outputs": [],
   "source": [
    "# Task 1: Drop columns or rows with excessive missing values.\n",
    "# Let's define a threshold for dropping columns (e.g., more than 50% missing values)\n",
    "threshold = 0.5 * len(df_dummy)\n",
    "df_dropped_cols = df_dummy.dropna(axis=1, thresh=threshold)\n",
    "print(\"\\nDummy Dataset After Dropping Columns with >50% Missing Values:\")\n",
    "print(df_dropped_cols)\n",
    "\n",
    "# Drop rows with any missing values (as an example, though not ideal for this small dataset)\n",
    "df_dropped_rows = df_dummy.dropna(axis=0)\n",
    "print(\"\\nDummy Dataset After Dropping Rows with Any Missing Values:\")\n",
    "print(df_dropped_rows)"
   ]
  },
  {
   "cell_type": "markdown",
   "id": "16d1d5b1",
   "metadata": {
    "id": "16d1d5b1"
   },
   "source": [
    "#### Task 2: Impute missing numerical columns (Age, Salary) with mean or median."
   ]
  },
  {
   "cell_type": "code",
   "execution_count": null,
   "id": "1a03c3ea",
   "metadata": {
    "colab": {
     "base_uri": "https://localhost:8080/"
    },
    "executionInfo": {
     "elapsed": 61,
     "status": "ok",
     "timestamp": 1761745570809,
     "user": {
      "displayName": "MALLELA SRI DEVI",
      "userId": "05218767344936405222"
     },
     "user_tz": -330
    },
    "id": "1a03c3ea",
    "outputId": "8c8aa852-820e-40f6-b064-0e494a79a124"
   },
   "outputs": [],
   "source": [
    "# Task 2: Impute missing numerical columns (Age, Salary) with mean or median.\n",
    "df_imputed_numerical = df_dummy.copy()\n",
    "# Impute 'Age' with mean\n",
    "df_imputed_numerical['Age'] = df_imputed_numerical['Age'].fillna(df_imputed_numerical['Age'].mean())\n",
    "# Impute 'Salary' with median\n",
    "df_imputed_numerical['Salary'] = df_imputed_numerical['Salary'].fillna(df_imputed_numerical['Salary'].median())\n",
    "print(\"\\nDummy Dataset After Imputing Numerical Columns (Age with Mean, Salary with Median):\")\n",
    "print(df_imputed_numerical)"
   ]
  },
  {
   "cell_type": "markdown",
   "id": "99b8ecd2",
   "metadata": {
    "id": "99b8ecd2"
   },
   "source": [
    "#### Task 3: Impute missing categorical columns (City, Purchased) with mode."
   ]
  },
  {
   "cell_type": "code",
   "execution_count": null,
   "id": "ed29580f",
   "metadata": {
    "colab": {
     "base_uri": "https://localhost:8080/"
    },
    "executionInfo": {
     "elapsed": 86,
     "status": "ok",
     "timestamp": 1761745571615,
     "user": {
      "displayName": "MALLELA SRI DEVI",
      "userId": "05218767344936405222"
     },
     "user_tz": -330
    },
    "id": "ed29580f",
    "outputId": "a9fd59fa-da07-4070-b6b2-f56997401d74"
   },
   "outputs": [],
   "source": [
    "# Task 3: Impute missing categorical columns (City, Purchased) with mode.\n",
    "df_imputed_categorical = df_dummy.copy()\n",
    "# Impute 'City' with mode\n",
    "df_imputed_categorical['City'] = df_imputed_categorical['City'].fillna(df_imputed_categorical['City'].mode()[0])\n",
    "# Impute 'Purchased' with mode\n",
    "df_imputed_categorical['Purchased'] = df_imputed_categorical['Purchased'].fillna(df_imputed_categorical['Purchased'].mode()[0])\n",
    "print(\"\\nDummy Dataset After Imputing Categorical Columns (City and Purchased with Mode):\")\n",
    "print(df_imputed_categorical)"
   ]
  },
  {
   "cell_type": "markdown",
   "id": "a6593944",
   "metadata": {
    "id": "a6593944"
   },
   "source": [
    "#### Task 4: Optionally, apply KNN imputation for numerical columns."
   ]
  },
  {
   "cell_type": "code",
   "execution_count": null,
   "id": "4cb4a065",
   "metadata": {
    "colab": {
     "base_uri": "https://localhost:8080/"
    },
    "executionInfo": {
     "elapsed": 224,
     "status": "ok",
     "timestamp": 1761745572494,
     "user": {
      "displayName": "MALLELA SRI DEVI",
      "userId": "05218767344936405222"
     },
     "user_tz": -330
    },
    "id": "4cb4a065",
    "outputId": "c6aaad59-bf59-4df4-bf10-26141870b2cb"
   },
   "outputs": [],
   "source": [
    "# Task 4: Optionally, apply KNN imputation for numerical columns.\n",
    "# Select only numerical columns for KNN imputation\n",
    "numerical_cols = df_dummy.select_dtypes(include=np.number).columns\n",
    "df_numerical = df_dummy[numerical_cols]\n",
    "\n",
    "knn_imputer = KNNImputer(n_neighbors=2)\n",
    "df_knn_imputed_numerical = pd.DataFrame(knn_imputer.fit_transform(df_numerical), columns=numerical_cols)\n",
    "\n",
    "# Combine imputed numerical columns with original categorical columns\n",
    "df_knn_imputed = df_dummy.copy()\n",
    "df_knn_imputed[numerical_cols] = df_knn_imputed_numerical\n",
    "# Note: KNNImputer only works on numerical data. Categorical columns still need separate imputation if desired.\n",
    "print(\"\\nDummy Dataset After KNN Imputation on Numerical Columns:\")\n",
    "print(df_knn_imputed)"
   ]
  }
 ],
 "metadata": {
  "colab": {
   "provenance": []
  },
  "kernelspec": {
   "display_name": "Python 3 (ipykernel)",
   "language": "python",
   "name": "python3"
  },
  "language_info": {
   "codemirror_mode": {
    "name": "ipython",
    "version": 3
   },
   "file_extension": ".py",
   "mimetype": "text/x-python",
   "name": "python",
   "nbconvert_exporter": "python",
   "pygments_lexer": "ipython3",
   "version": "3.13.5"
  }
 },
 "nbformat": 4,
 "nbformat_minor": 5
}
