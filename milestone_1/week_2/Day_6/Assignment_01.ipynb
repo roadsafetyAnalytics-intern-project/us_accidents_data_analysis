{
 "cells": [
  {
   "cell_type": "markdown",
   "id": "b72bc8e5",
   "metadata": {
    "id": "b72bc8e5"
   },
   "source": [
    "### Assignment-1"
   ]
  },
  {
   "cell_type": "markdown",
   "id": "4a1848d0",
   "metadata": {
    "id": "4a1848d0"
   },
   "source": [
    "1. How many unique values are there in categorical columns like `City`, `State`, and `Weather_Condition`? Which category is the most frequent in each?"
   ]
  },
  {
   "cell_type": "code",
   "execution_count": null,
   "id": "c32ea46c",
   "metadata": {
    "colab": {
     "base_uri": "https://localhost:8080/",
     "height": 373
    },
    "id": "c32ea46c",
    "outputId": "47fcf901-6cf6-4db3-cdbe-47777c216ebc",
    "vscode": {
     "languageId": "plaintext"
    }
   },
   "outputs": [],
   "source": [
    "import pandas as pd, matplotlib.pyplot as plt\n",
    "\n",
    "# Load dataset\n",
    "df = pd.read_csv(\"US_Accidents_March23.csv\")\n",
    "print(f\"✅ Loaded {df.shape[0]:,} rows × {df.shape[1]} columns\")\n",
    "\n",
    "for col in ['City','State','Weather_Condition']:\n",
    "    print(f\"{col}: {df[col].nunique():,} unique | Most common: {df[col].mode()[0]} ({df[col].value_counts().iloc[0]:,})\")"
   ]
  },
  {
   "cell_type": "markdown",
   "id": "4e7ec556",
   "metadata": {
    "id": "4e7ec556"
   },
   "source": [
    "2. Calculate the percentage of missing values in each column and list columns with more than 5% missing data."
   ]
  },
  {
   "cell_type": "code",
   "execution_count": null,
   "id": "ceb88a2a",
   "metadata": {
    "id": "ceb88a2a",
    "outputId": "ed43bde2-ff4e-4ce8-e129-a93868612ea2",
    "vscode": {
     "languageId": "plaintext"
    }
   },
   "outputs": [],
   "source": [
    "missing = (df.isna().mean()*100).round(2)\n",
    "print(missing[missing>5].sort_values(ascending=False))"
   ]
  },
  {
   "cell_type": "markdown",
   "id": "7dab9b53",
   "metadata": {
    "id": "7dab9b53"
   },
   "source": [
    "3. Convert `Start_Time` and `End_Time` columns to datetime objects. Find the range (earliest and latest) of accident start times in the dataset."
   ]
  },
  {
   "cell_type": "code",
   "execution_count": null,
   "id": "accb8a38",
   "metadata": {
    "id": "accb8a38",
    "outputId": "b3389efb-4da9-4d44-f55f-4f50795e8113",
    "vscode": {
     "languageId": "plaintext"
    }
   },
   "outputs": [],
   "source": [
    "df[['Start_Time','End_Time']] = df[['Start_Time','End_Time']].apply(pd.to_datetime, errors='coerce')\n",
    "print(f\"Earliest: {df['Start_Time'].min()} | Latest: {df['Start_Time'].max()}\")"
   ]
  },
  {
   "cell_type": "markdown",
   "id": "16b841ec",
   "metadata": {
    "id": "16b841ec"
   },
   "source": [
    "4. Identify any duplicate records in the dataset based on all columns. How many duplicates exist and how will you handle them?"
   ]
  },
  {
   "cell_type": "code",
   "execution_count": null,
   "id": "6fde2c9b",
   "metadata": {
    "id": "6fde2c9b",
    "outputId": "b64ba63a-d087-40b3-9ef0-681c140923da",
    "vscode": {
     "languageId": "plaintext"
    }
   },
   "outputs": [],
   "source": [
    "dupes = df.duplicated().sum()\n",
    "print(f\"Duplicates: {dupes}\")\n",
    "if dupes: df.drop_duplicates(inplace=True)"
   ]
  },
  {
   "cell_type": "markdown",
   "id": "0e1b9654",
   "metadata": {
    "id": "0e1b9654"
   },
   "source": [
    "5. Explore the distribution of accident severity (Severity column). What percentage of accidents belong to each severity level? Visualize this distribution with a pie chart."
   ]
  },
  {
   "cell_type": "code",
   "execution_count": null,
   "id": "0fc06851",
   "metadata": {
    "id": "0fc06851",
    "outputId": "80e044e3-0e01-41db-ccf1-5ebabcdfd279",
    "vscode": {
     "languageId": "plaintext"
    }
   },
   "outputs": [],
   "source": [
    "severity = df['Severity'].value_counts().sort_index()\n",
    "print((severity/len(df)*100).round(2))\n",
    "plt.pie(severity, labels=severity.index, autopct='%1.1f%%', startangle=90)\n",
    "plt.title(\"Accident Severity Distribution\")\n",
    "plt.show()"
   ]
  }
 ],
 "metadata": {
  "colab": {
   "provenance": []
  },
  "kernelspec": {
   "display_name": "Python 3 (ipykernel)",
   "language": "python",
   "name": "python3"
  },
  "language_info": {
   "codemirror_mode": {
    "name": "ipython",
    "version": 3
   },
   "file_extension": ".py",
   "mimetype": "text/x-python",
   "name": "python",
   "nbconvert_exporter": "python",
   "pygments_lexer": "ipython3",
   "version": "3.13.5"
  }
 },
 "nbformat": 4,
 "nbformat_minor": 5
}
