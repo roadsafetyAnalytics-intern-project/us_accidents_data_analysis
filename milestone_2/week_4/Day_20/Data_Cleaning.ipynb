{
  "nbformat": 4,
  "nbformat_minor": 0,
  "metadata": {
    "colab": {
      "provenance": [],
      "gpuType": "V5E1",
      "mount_file_id": "1f2Q_szzjv7UwEgNucDL0Cwx_17AwWxWU",
      "authorship_tag": "ABX9TyPEe6NGo+n2/6aT0citIcNt",
      "include_colab_link": true
    },
    "kernelspec": {
      "name": "python3",
      "display_name": "Python 3"
    },
    "language_info": {
      "name": "python"
    },
    "accelerator": "TPU"
  },
  "cells": [
    {
      "cell_type": "markdown",
      "metadata": {
        "id": "view-in-github",
        "colab_type": "text"
      },
      "source": [
        "<a href=\"https://colab.research.google.com/github/DineshY1011/US_Accident/blob/main/Milestone_2/Week_4/Day_20/data_cleaning.ipynb\" target=\"_parent\"><img src=\"https://colab.research.google.com/assets/colab-badge.svg\" alt=\"Open In Colab\"/></a>"
      ]
    },
    {
      "cell_type": "markdown",
      "source": [
        "Import Libraries"
      ],
      "metadata": {
        "id": "H0CO5OizZU1a"
      }
    },
    {
      "cell_type": "code",
      "execution_count": null,
      "metadata": {
        "id": "IZFqUijoh7mQ"
      },
      "outputs": [],
      "source": [
        "import pandas as pd\n",
        "import numpy as np"
      ]
    },
    {
      "cell_type": "markdown",
      "source": [
        "Load Dataset"
      ],
      "metadata": {
        "id": "wCbPtQ1gZWkC"
      }
    },
    {
      "cell_type": "code",
      "source": [
        "file_path = \"/content/drive/MyDrive/US_Dataset/US_Accidents_sampled_1M.csv\"\n",
        "df = pd.read_csv(file_path, low_memory=False)\n",
        "print(f\"Dataset loaded successfully with shape: {df.shape}\")"
      ],
      "metadata": {
        "colab": {
          "base_uri": "https://localhost:8080/"
        },
        "id": "I3HgG0k0ZELB",
        "outputId": "743078bf-dbea-42b4-b827-616674d5c4a5"
      },
      "execution_count": null,
      "outputs": [
        {
          "output_type": "stream",
          "name": "stdout",
          "text": [
            "Dataset loaded successfully with shape: (1000000, 46)\n"
          ]
        }
      ]
    },
    {
      "cell_type": "markdown",
      "source": [
        "Drop Unnecessary Columns"
      ],
      "metadata": {
        "id": "mCbJRfv_ZefZ"
      }
    },
    {
      "cell_type": "code",
      "source": [
        "# Columns that do not affect severity prediction\n",
        "drop_cols = [\n",
        "    \"ID\", \"Source\", \"End_Lat\", \"End_Lng\", \"Description\", \"Street\",\n",
        "    \"Country\", \"Timezone\", \"Airport_Code\", \"Weather_Timestamp\",\n",
        "    \"Nautical_Twilight\", \"Astronomical_Twilight\"\n",
        "]\n",
        "\n",
        "df.drop(columns=[col for col in drop_cols if col in df.columns], inplace=True)\n",
        "print(f\"Dropped unnecessary columns. Remaining shape: {df.shape}\")"
      ],
      "metadata": {
        "colab": {
          "base_uri": "https://localhost:8080/"
        },
        "id": "sYcoS-4NZRM1",
        "outputId": "1261447d-83a0-4e91-e222-691f28237408"
      },
      "execution_count": null,
      "outputs": [
        {
          "output_type": "stream",
          "name": "stdout",
          "text": [
            "Dropped unnecessary columns. Remaining shape: (1000000, 34)\n"
          ]
        }
      ]
    },
    {
      "cell_type": "markdown",
      "source": [
        "Remove Duplicate Rows"
      ],
      "metadata": {
        "id": "qZgaqac_Zx8g"
      }
    },
    {
      "cell_type": "code",
      "source": [
        "before = df.shape[0]\n",
        "df.drop_duplicates(inplace=True)\n",
        "after = df.shape[0]\n",
        "print(f\"Removed {before - after} duplicate rows.\")"
      ],
      "metadata": {
        "colab": {
          "base_uri": "https://localhost:8080/"
        },
        "id": "NMGEkKREZyZe",
        "outputId": "4c256d8d-1ff2-4fd4-9b12-724b0fa65252"
      },
      "execution_count": null,
      "outputs": [
        {
          "output_type": "stream",
          "name": "stdout",
          "text": [
            "Removed 2111 duplicate rows.\n"
          ]
        }
      ]
    },
    {
      "cell_type": "markdown",
      "source": [
        "Handle Missing Values"
      ],
      "metadata": {
        "id": "yBsorXlXZyzG"
      }
    },
    {
      "cell_type": "code",
      "source": [
        "# Drop rows where Severity is missing (target column)\n",
        "if \"Severity\" in df.columns:\n",
        "    df = df.dropna(subset=[\"Severity\"])\n",
        "\n",
        "# Fill numeric columns with median\n",
        "num_cols = df.select_dtypes(include=[np.number]).columns\n",
        "df[num_cols] = df[num_cols].fillna(df[num_cols].median())\n",
        "\n",
        "# Fill categorical/boolean columns with mode\n",
        "cat_cols = df.select_dtypes(include=[\"object\", \"bool\"]).columns\n",
        "for col in cat_cols:\n",
        "    df[col] = df[col].fillna(df[col].mode()[0] if not df[col].mode().empty else \"Unknown\")\n",
        "\n",
        "print(\"Missing values handled successfully.\")"
      ],
      "metadata": {
        "colab": {
          "base_uri": "https://localhost:8080/"
        },
        "id": "61su4mJNZzW1",
        "outputId": "cca7bb68-af8e-4196-87e9-61c0f8f1b147"
      },
      "execution_count": null,
      "outputs": [
        {
          "output_type": "stream",
          "name": "stdout",
          "text": [
            "Missing values handled successfully.\n"
          ]
        }
      ]
    },
    {
      "cell_type": "markdown",
      "source": [
        "Fix Data Types"
      ],
      "metadata": {
        "id": "yHYlr0jUaRTc"
      }
    },
    {
      "cell_type": "code",
      "source": [
        "# Convert boolean-like columns to proper bool type\n",
        "bool_cols = [\n",
        "    \"Amenity\", \"Bump\", \"Crossing\", \"Give_Way\", \"Junction\", \"No_Exit\",\n",
        "    \"Railway\", \"Roundabout\", \"Station\", \"Stop\", \"Traffic_Calming\",\n",
        "    \"Traffic_Signal\", \"Turning_Loop\"\n",
        "]\n",
        "\n",
        "for col in bool_cols:\n",
        "    if col in df.columns:\n",
        "        df[col] = df[col].astype(bool)\n",
        "\n",
        "# Convert date/time columns to datetime\n",
        "datetime_cols = [\"Start_Time\", \"End_Time\"]\n",
        "for col in datetime_cols:\n",
        "    if col in df.columns:\n",
        "        df[col] = pd.to_datetime(df[col], errors=\"coerce\")\n",
        "\n",
        "print(\"Data types fixed successfully.\")"
      ],
      "metadata": {
        "colab": {
          "base_uri": "https://localhost:8080/"
        },
        "id": "yuskS9OHaRpk",
        "outputId": "416aa2ec-37ab-4299-f3e2-6a1e6b04adad"
      },
      "execution_count": null,
      "outputs": [
        {
          "output_type": "stream",
          "name": "stdout",
          "text": [
            "Data types fixed successfully.\n"
          ]
        }
      ]
    },
    {
      "cell_type": "markdown",
      "source": [
        "Handle Outliers"
      ],
      "metadata": {
        "id": "X64ouDqnaSJE"
      }
    },
    {
      "cell_type": "code",
      "source": [
        "# Remove unrealistic negative or zero distances\n",
        "if \"Distance(mi)\" in df.columns:\n",
        "    df = df[df[\"Distance(mi)\"] > 0]\n",
        "\n",
        "# Remove temperature, humidity, pressure outliers if extreme\n",
        "if \"Temperature(F)\" in df.columns:\n",
        "    df = df[(df[\"Temperature(F)\"] > -50) & (df[\"Temperature(F)\"] < 130)]\n",
        "\n",
        "if \"Humidity(%)\" in df.columns:\n",
        "    df = df[(df[\"Humidity(%)\"] >= 0) & (df[\"Humidity(%)\"] <= 100)]\n",
        "\n",
        "print(\"Outliers handled successfully.\")"
      ],
      "metadata": {
        "colab": {
          "base_uri": "https://localhost:8080/"
        },
        "id": "YuCvGL5CaSxA",
        "outputId": "f3d986c2-3d59-4cac-bbe1-7d1d93e67801"
      },
      "execution_count": null,
      "outputs": [
        {
          "output_type": "stream",
          "name": "stdout",
          "text": [
            "Outliers handled successfully.\n"
          ]
        }
      ]
    },
    {
      "cell_type": "markdown",
      "source": [
        "Standardize Text Columns"
      ],
      "metadata": {
        "id": "2NLfNZWLawN-"
      }
    },
    {
      "cell_type": "code",
      "source": [
        "# Convert all text columns to consistent format\n",
        "text_cols = df.select_dtypes(include=\"object\").columns\n",
        "for col in text_cols:\n",
        "    df[col] = df[col].astype(str).str.strip().str.title()"
      ],
      "metadata": {
        "id": "hafPprTcawfy"
      },
      "execution_count": null,
      "outputs": []
    },
    {
      "cell_type": "markdown",
      "source": [
        "Save Cleaned Dataset"
      ],
      "metadata": {
        "id": "trbkCU_0awxs"
      }
    },
    {
      "cell_type": "code",
      "source": [
        "output_path = \"cleaned_us_accidents.csv\"\n",
        "df.to_csv(output_path, index=False)\n",
        "print(f\"Cleaned dataset saved successfully as: {output_path}\")\n",
        "print(f\"Final cleaned shape: {df.shape}\")"
      ],
      "metadata": {
        "colab": {
          "base_uri": "https://localhost:8080/"
        },
        "id": "aPft0wAiaxID",
        "outputId": "d0445ac4-05c5-4431-8a58-4e870527f462"
      },
      "execution_count": null,
      "outputs": [
        {
          "output_type": "stream",
          "name": "stdout",
          "text": [
            "Cleaned dataset saved successfully as: cleaned_us_accidents.csv\n",
            "Final cleaned shape: (570562, 34)\n"
          ]
        }
      ]
    }
  ]
}