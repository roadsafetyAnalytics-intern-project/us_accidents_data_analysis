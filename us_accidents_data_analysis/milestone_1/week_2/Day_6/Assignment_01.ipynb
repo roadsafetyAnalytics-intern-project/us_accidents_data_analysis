{
 "cells": [
  {
   "cell_type": "markdown",
   "id": "b72bc8e5",
   "metadata": {},
   "source": [
    "### Assignment-1"
   ]
  },
  {
   "cell_type": "markdown",
   "id": "4a1848d0",
   "metadata": {},
   "source": [
    "1. How many unique values are there in categorical columns like `City`, `State`, and `Weather_Condition`? Which category is the most frequent in each?"
   ]
  },
  {
   "cell_type": "code",
   "execution_count": null,
   "id": "c32ea46c",
   "metadata": {
    "vscode": {
     "languageId": "plaintext"
    }
   },
   "outputs": [],
   "source": []
  },
  {
   "cell_type": "markdown",
   "id": "4e7ec556",
   "metadata": {},
   "source": [
    "2. Calculate the percentage of missing values in each column and list columns with more than 5% missing data."
   ]
  },
  {
   "cell_type": "code",
   "execution_count": null,
   "id": "ceb88a2a",
   "metadata": {
    "vscode": {
     "languageId": "plaintext"
    }
   },
   "outputs": [],
   "source": []
  },
  {
   "cell_type": "markdown",
   "id": "7dab9b53",
   "metadata": {},
   "source": [
    "3. Convert `Start_Time` and `End_Time` columns to datetime objects. Find the range (earliest and latest) of accident start times in the dataset."
   ]
  },
  {
   "cell_type": "code",
   "execution_count": null,
   "id": "accb8a38",
   "metadata": {
    "vscode": {
     "languageId": "plaintext"
    }
   },
   "outputs": [],
   "source": []
  },
  {
   "cell_type": "markdown",
   "id": "16b841ec",
   "metadata": {},
   "source": [
    "4. Identify any duplicate records in the dataset based on all columns. How many duplicates exist and how will you handle them?"
   ]
  },
  {
   "cell_type": "code",
   "execution_count": null,
   "id": "6fde2c9b",
   "metadata": {
    "vscode": {
     "languageId": "plaintext"
    }
   },
   "outputs": [],
   "source": []
  },
  {
   "cell_type": "markdown",
   "id": "0e1b9654",
   "metadata": {},
   "source": [
    "5. Explore the distribution of accident severity (Severity column). What percentage of accidents belong to each severity level? Visualize this distribution with a pie chart."
   ]
  },
  {
   "cell_type": "code",
   "execution_count": null,
   "id": "0fc06851",
   "metadata": {
    "vscode": {
     "languageId": "plaintext"
    }
   },
   "outputs": [],
   "source": []
  }
 ],
 "metadata": {
  "language_info": {
   "name": "python"
  }
 },
 "nbformat": 4,
 "nbformat_minor": 5
}
